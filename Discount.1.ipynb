{
  "nbformat": 4,
  "nbformat_minor": 0,
  "metadata": {
    "colab": {
      "name": "Discount.ipynb",
      "provenance": [],
      "collapsed_sections": [],
      "authorship_tag": "ABX9TyMR01uGsva+E4H0sei6yCmy",
      "include_colab_link": true
    },
    "kernelspec": {
      "name": "python3",
      "display_name": "Python 3"
    },
    "language_info": {
      "name": "python"
    }
  },
  "cells": [
    {
      "cell_type": "markdown",
      "metadata": {
        "id": "view-in-github",
        "colab_type": "text"
      },
      "source": [
        "<a href=\"https://colab.research.google.com/github/musioo/Economy/blob/main/Discount.1.ipynb\" target=\"_parent\"><img src=\"https://colab.research.google.com/assets/colab-badge.svg\" alt=\"Open In Colab\"/></a>"
      ]
    },
    {
      "cell_type": "code",
      "execution_count": null,
      "metadata": {
        "colab": {
          "base_uri": "https://localhost:8080/"
        },
        "id": "voJse6iHAkR3",
        "outputId": "c596eba1-8a49-4345-cc1b-447a3c1f6adc"
      },
      "outputs": [
        {
          "output_type": "stream",
          "name": "stdout",
          "text": [
            "press Trip number : 277\n",
            "press rate number : 12\n",
            "press Trip frequency : 2\n",
            "277\n",
            "False rate\n",
            "2\n"
          ]
        }
      ],
      "source": [
        "  a = float(input(\"press Trip number : \"))\n",
        "  b = float(input(\"press rate number : \"))\n",
        "  c = float(input(\"press Trip frequency : \"))\n",
        "  int_a = int(a)\n",
        "  if 10000 >= int_a >=0 :\n",
        "    print(int_a)    \n",
        "  else :\n",
        "    print(f\"False trip number\")\n",
        "  int_b = int(b)\n",
        "  if 10 >= int_b >=0 :\n",
        "    print(int_b)    \n",
        "  else :\n",
        "    print(f\"False rate\")\n",
        "  int_c = int(c)\n",
        "  if 10 >= int_c >=0 :\n",
        "    print(int_c)    \n",
        "  else :\n",
        "    print(f\"False\")"
      ]
    },
    {
      "cell_type": "code",
      "source": [
        "#TN = float(input(\"press TN : \"))\n",
        "Drv = float(input(\"Trip bid (USD) : \"))\n",
        "#int_Drv = int(Drv)\n",
        "def ai (TN ,RN ,TF ):\n",
        "        return ((TN * 3.3) / 10000),((RN * 3.3) / 10),((TF * 3.3) / 10)\n",
        "x = ai(TN = float(input(\"press TN : \")),RN = float(input(\"press RM : \")),TF = float(input(\"press TF : \")))\n",
        "print(\"The original tuple is : \" + str(x))\n",
        "res = sum(list(x))\n",
        "reszz = (res / 100 ) * Drv\n",
        "print(\"Discount number : \" + str(res)) \n",
        "print(\"User USD Discount : \" + str(reszz))\n",
        "\n",
        "  \n",
        "\n",
        "    "
      ],
      "metadata": {
        "colab": {
          "base_uri": "https://localhost:8080/"
        },
        "id": "eku0BwTFLYth",
        "outputId": "418f0657-054a-48db-9888-70bb2e0beaef"
      },
      "execution_count": 47,
      "outputs": [
        {
          "output_type": "stream",
          "name": "stdout",
          "text": [
            "Trip bid (USD) : 500\n",
            "press TN : 456\n",
            "press RM : 5\n",
            "press TF : 3\n",
            "The original tuple is : (0.15048, 1.65, 0.9899999999999999)\n",
            "Discount number : 2.7904799999999996\n",
            "User USD Discount : 13.952399999999999\n"
          ]
        }
      ]
    },
    {
      "cell_type": "code",
      "source": [
        "\n"
      ],
      "metadata": {
        "id": "KtjFPi8es84C",
        "colab": {
          "base_uri": "https://localhost:8080/",
          "height": 133
        },
        "outputId": "65108723-2103-4569-8759-ee409ee12ae4"
      },
      "execution_count": 27,
      "outputs": [
        {
          "output_type": "error",
          "ename": "SyntaxError",
          "evalue": "ignored",
          "traceback": [
            "\u001b[0;36m  File \u001b[0;32m\"<ipython-input-27-46337ea6e3f0>\"\u001b[0;36m, line \u001b[0;32m19\u001b[0m\n\u001b[0;31m    #print(\"Discount number : \" + str(res))\u001b[0m\n\u001b[0m                                           ^\u001b[0m\n\u001b[0;31mSyntaxError\u001b[0m\u001b[0;31m:\u001b[0m unexpected EOF while parsing\n"
          ]
        }
      ]
    },
    {
      "cell_type": "code",
      "source": [
        "Drv = float(input(\"Trip bid (USD) : \"))\n",
        "Pas = float(input(\"Trip approved(USD) : \"))\n",
        "#int_Drv = int(Drv)\n",
        "#int_Pas = int(Pas)\n",
        "def ad (TND ,RND ,TFD ):\n",
        "        return ((TND * 3.3) / 10000),((RND * 3.3) / 10),((TFD * 3.3) / 10)\n",
        "z = ad(TND = float(input(\"press TND : \")),RND = float(input(\"press RMD : \")),TFD = float(input(\"press TFD : \")))\n",
        "def ap(TNP ,RNP ,TFP) : \n",
        "        return ((TNP * 3.3) / 10000),((RNP * 3.3) / 10),((TFP * 3.3) / 10)\n",
        "x = ap(TNP = float(input(\"press TNP : \")),RNP = float(input(\"press RMP : \")),TFP = float(input(\"press TFP : \")))\n",
        "print(\"The original tuple for Driver is : \" + str(z))\n",
        "print(\"The original tuple for Passenger is : \" + str(x))\n",
        "resz = sum(list(z))\n",
        "resx = sum(list(x))\n",
        "reszz = (resz / 100 ) * Drv\n",
        "resxx = (resx / 100) * Pas\n",
        "#res = sum((list(z),list(x)),\n",
        "\n",
        "print(\"Driver discount : \" + str(resz))\n",
        "print(\"Passenger discount : \" + str(resx))\n",
        "print(\"Deriver USD discount is : \" + str(reszz))\n",
        "print(\"Passenger USD discount is : \" + str(resxx))\n",
        "\n",
        "#print(\"Discount number : \" + str(res))\n",
        "\n"
      ],
      "metadata": {
        "colab": {
          "base_uri": "https://localhost:8080/"
        },
        "id": "6Ml84Sqj0h3K",
        "outputId": "1a5f0e06-f865-42e2-89b5-4909a2b5b52a"
      },
      "execution_count": 48,
      "outputs": [
        {
          "output_type": "stream",
          "name": "stdout",
          "text": [
            "Trip bid (USD) : 50\n",
            "Trip approved(USD) : 50\n",
            "press TND : 10000\n",
            "press RMD : 10\n",
            "press TFD : 10\n",
            "press TNP : 3\n",
            "press RMP : 4\n",
            "press TFP : 4\n",
            "The original tuple for Driver is : (3.3, 3.3, 3.3)\n",
            "The original tuple for Passenger is : (0.0009899999999999998, 1.3199999999999998, 1.3199999999999998)\n",
            "Driver discount : 9.899999999999999\n",
            "Passenger discount : 2.6409899999999995\n",
            "Deriver USD discount is : 4.949999999999999\n",
            "Passenger USD discount is : 1.3204949999999998\n"
          ]
        }
      ]
    },
    {
      "cell_type": "code",
      "source": [
        "\n",
        "print(\"using start, stop, and step arguments in Python range() function\")\n",
        "print(\"Printing All odd numbers between 1 and 10 using range()\")\n",
        "for i in range(1, 10, 2):\n",
        "    print(i, end=', ')"
      ],
      "metadata": {
        "colab": {
          "base_uri": "https://localhost:8080/"
        },
        "id": "lmg86sZoDc0K",
        "outputId": "0d8bbdea-50e0-4f71-c9b3-df508e6b05ad"
      },
      "execution_count": null,
      "outputs": [
        {
          "output_type": "stream",
          "name": "stdout",
          "text": [
            "using start, stop, and step arguments in Python range() function\n",
            "Printing All odd numbers between 1 and 10 using range()\n",
            "1, 3, 5, 7, 9, "
          ]
        }
      ]
    }
  ]
}