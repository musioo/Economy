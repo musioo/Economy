{
  "nbformat": 4,
  "nbformat_minor": 0,
  "metadata": {
    "colab": {
      "name": "Discount.ipynb",
      "provenance": [],
      "collapsed_sections": []
    },
    "kernelspec": {
      "name": "python3",
      "display_name": "Python 3"
    },
    "language_info": {
      "name": "python"
    }
  },
  "cells": [
    {
      "cell_type": "code",
      "execution_count": null,
      "metadata": {
        "colab": {
          "base_uri": "https://localhost:8080/"
        },
        "id": "voJse6iHAkR3",
        "outputId": "c596eba1-8a49-4345-cc1b-447a3c1f6adc"
      },
      "outputs": [
        {
          "output_type": "stream",
          "name": "stdout",
          "text": [
            "press Trip number : 277\n",
            "press rate number : 12\n",
            "press Trip frequency : 2\n",
            "277\n",
            "False rate\n",
            "2\n"
          ]
        }
      ],
      "source": [
        "  a = float(input(\"press Trip number : \"))\n",
        "  b = float(input(\"press rate number : \"))\n",
        "  c = float(input(\"press Trip frequency : \"))\n",
        "  int_a = int(a)\n",
        "  if 10000 >= int_a >=0 :\n",
        "    print(int_a)    \n",
        "  else :\n",
        "    print(f\"False trip number\")\n",
        "  int_b = int(b)\n",
        "  if 10 >= int_b >=0 :\n",
        "    print(int_b)    \n",
        "  else :\n",
        "    print(f\"False rate\")\n",
        "  int_c = int(c)\n",
        "  if 10 >= int_c >=0 :\n",
        "    print(int_c)    \n",
        "  else :\n",
        "    print(f\"False\")"
      ]
    },
    {
      "cell_type": "code",
      "source": [
        "#TN = float(input(\"press TN : \"))\n",
        "def ai (TN ,RN ,TF ):\n",
        "        return ((TN * 3.3) / 10000),((RN * 3.3) / 10),((TF * 3.3) / 10)\n",
        "x = ai(TN = float(input(\"press TN : \")),RN = float(input(\"press RM : \")),TF = float(input(\"press TF : \")))\n",
        "#i in range (x)\n",
        "print(\"The original tuple is : \" + str(x))\n",
        "res = sum(list(x))\n",
        "print(\"Discount number : \" + str(res)) \n",
        "\n",
        "      \n",
        "\n",
        "    "
      ],
      "metadata": {
        "colab": {
          "base_uri": "https://localhost:8080/"
        },
        "id": "eku0BwTFLYth",
        "outputId": "b9cdeaf6-85c1-42e8-a8dc-5694bede998a"
      },
      "execution_count": null,
      "outputs": [
        {
          "output_type": "stream",
          "name": "stdout",
          "text": [
            "press TN : 8000\n",
            "press RM : 2\n",
            "press TF : 10\n",
            "The original tuple is : (2.64, 0.6599999999999999, 3.3)\n",
            "Discount number : 6.6\n"
          ]
        }
      ]
    },
    {
      "cell_type": "code",
      "source": [
        "\n",
        "print(\"using start, stop, and step arguments in Python range() function\")\n",
        "print(\"Printing All odd numbers between 1 and 10 using range()\")\n",
        "for i in range(1, 10, 2):\n",
        "    print(i, end=', ')"
      ],
      "metadata": {
        "colab": {
          "base_uri": "https://localhost:8080/"
        },
        "id": "lmg86sZoDc0K",
        "outputId": "0d8bbdea-50e0-4f71-c9b3-df508e6b05ad"
      },
      "execution_count": null,
      "outputs": [
        {
          "output_type": "stream",
          "name": "stdout",
          "text": [
            "using start, stop, and step arguments in Python range() function\n",
            "Printing All odd numbers between 1 and 10 using range()\n",
            "1, 3, 5, 7, 9, "
          ]
        }
      ]
    }
  ]
}